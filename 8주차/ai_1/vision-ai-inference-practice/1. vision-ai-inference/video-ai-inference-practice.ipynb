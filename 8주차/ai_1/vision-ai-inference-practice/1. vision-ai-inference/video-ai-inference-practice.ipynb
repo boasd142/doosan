{
 "cells": [
  {
   "cell_type": "code",
   "execution_count": 1,
   "metadata": {},
   "outputs": [],
   "source": [
    "import requests, cv2\n",
    "from requests.auth import HTTPBasicAuth"
   ]
  },
  {
   "cell_type": "code",
   "execution_count": 98,
   "metadata": {},
   "outputs": [],
   "source": [
    "URL = \"https://suite-endpoint-api-apne2.superb-ai.com/endpoints/8f5a5eb7-3e85-416a-8c81-cdd4f085f140/inference\"\n",
    "ACCESS_KEY = \"87Ooe3vJlV859berMYnCja8GUJpepPue2SCPwzVl\""
   ]
  },
  {
   "cell_type": "code",
   "execution_count": 82,
   "metadata": {},
   "outputs": [],
   "source": [
    "IMAGE_FILE_PATH = '/home/bok/images/274.jpg'"
   ]
  },
  {
   "cell_type": "code",
   "execution_count": 83,
   "metadata": {},
   "outputs": [],
   "source": [
    "image = open(IMAGE_FILE_PATH, \"rb\").read()"
   ]
  },
  {
   "cell_type": "code",
   "execution_count": 84,
   "metadata": {},
   "outputs": [],
   "source": [
    "response = requests.post(\n",
    "    url=URL,\n",
    "    auth=HTTPBasicAuth(\"kdt2024_1-17\", ACCESS_KEY),\n",
    "    headers={\"Content-Type\": \"image/jpeg\"},\n",
    "    data=image,\n",
    ")"
   ]
  },
  {
   "cell_type": "code",
   "execution_count": 85,
   "metadata": {},
   "outputs": [
    {
     "data": {
      "text/plain": [
       "200"
      ]
     },
     "execution_count": 85,
     "metadata": {},
     "output_type": "execute_result"
    }
   ],
   "source": [
    "#4시작 -> 내문제, 5시작 -> 서버문제\n",
    "response.status_code"
   ]
  },
  {
   "cell_type": "code",
   "execution_count": 86,
   "metadata": {},
   "outputs": [
    {
     "name": "stdout",
     "output_type": "stream",
     "text": [
      "{'objects': [{'class': 'RASPBERRY PICO', 'score': 0.8834236860275269, 'box': [216, 299, 448, 628]}, {'class': 'USB', 'score': 0.7335350513458252, 'box': [250, 580, 307, 628]}, {'class': 'OSCILLIATOR', 'score': 0.722891092300415, 'box': [356, 404, 381, 424]}, {'class': 'BOOTSEL', 'score': 0.7168576717376709, 'box': [308, 525, 338, 566]}, {'class': 'CHIPSET', 'score': 0.7115623354911804, 'box': [307, 432, 364, 485]}, {'class': 'HOLE', 'score': 0.4126925468444824, 'box': [413, 336, 425, 349]}, {'class': 'HOLE', 'score': 0.3643624186515808, 'box': [348, 312, 364, 335]}, {'class': 'HOLE', 'score': 0.3590756058692932, 'box': [351, 312, 362, 326]}]}\n"
     ]
    }
   ],
   "source": [
    "print(response.json())"
   ]
  },
  {
   "cell_type": "code",
   "execution_count": 87,
   "metadata": {},
   "outputs": [],
   "source": [
    "objects = response.json()[\"objects\"]"
   ]
  },
  {
   "cell_type": "code",
   "execution_count": 88,
   "metadata": {},
   "outputs": [
    {
     "data": {
      "text/plain": [
       "list"
      ]
     },
     "execution_count": 88,
     "metadata": {},
     "output_type": "execute_result"
    }
   ],
   "source": [
    "type((objects))"
   ]
  },
  {
   "cell_type": "code",
   "execution_count": 94,
   "metadata": {},
   "outputs": [
    {
     "data": {
      "text/plain": [
       "-1"
      ]
     },
     "execution_count": 94,
     "metadata": {},
     "output_type": "execute_result"
    }
   ],
   "source": [
    "img = cv2.imread(IMAGE_FILE_PATH)\n",
    "i = 20\n",
    "name_count = 1\n",
    "pre_name = None\n",
    "name_dict = {}\n",
    "\n",
    "for obj_name in objects:\n",
    "    name = obj_name['class']\n",
    "    if name not in name_dict:\n",
    "        name_dict[name] = 1\n",
    "    else:\n",
    "        name_dict[name] += 1\n",
    "    \n",
    "for key in name_dict:\n",
    "    text = f'{key} x {name_dict[key]}'\n",
    "    position = (0, i) # 텍스트 시작 위치 (x, y)\n",
    "    font = cv2.FONT_HERSHEY_SIMPLEX # 글꼴 설정\n",
    "    font_scale = 0.5 # 글자 크기\n",
    "    color_names = (255, 0, 0)\n",
    "    thickness = 2 # 글자 두께\n",
    "    i+=20\n",
    "    cv2.putText(img, text, position, font, font_scale, color_names, thickness, cv2.LINE_AA)\n",
    "    \n",
    "    \n",
    "# 박스 칠 좌표 설정 (예: 좌측 상단 (50, 50), 우측 하단 (200, 200))\n",
    "\n",
    "\n",
    "for obj in objects:\n",
    "    name = obj['class']\n",
    "    start_point = (obj['box'][0],obj['box'][1])\n",
    "    end_point = (obj['box'][2],obj['box'][3])\n",
    "    color = (0, 255, 0) # BGR 색상 (초록색)\n",
    "    thickness = 2 # 박스 선의 두께\n",
    "    # 박스 그리기   \n",
    "    cv2.rectangle(img, start_point, end_point, color, thickness)\n",
    "    \n",
    "    text = name\n",
    "    position = (obj['box'][0], obj['box'][1]-20) # 텍스트 시작 위치 (x, y)\n",
    "    font = cv2.FONT_HERSHEY_SIMPLEX # 글꼴 설정\n",
    "    font_scale = 0.4 # 글자 크기\n",
    "    color_names = (0, 255, 0)\n",
    "    thickness = 1 # 글자 두께\n",
    "    cv2.putText(img, text, position, font, font_scale, color_names, thickness, cv2.LINE_AA)\n",
    "        \n",
    "cv2.imshow('image',img)\n",
    "cv2.waitKey(0)"
   ]
  },
  {
   "cell_type": "code",
   "execution_count": 10,
   "metadata": {},
   "outputs": [
    {
     "name": "stdout",
     "output_type": "stream",
     "text": [
      "[]\n",
      "0\n",
      "boot : 0\n",
      "usb: 0\n",
      "chip : 1\n",
      "osc : 0\n",
      "pico : 0\n",
      "hole : 0\n"
     ]
    }
   ],
   "source": [
    "import os\n",
    "import requests\n",
    "import re  # 정규식을 사용하기 위해 import\n",
    "from requests.auth import HTTPBasicAuth\n",
    "\n",
    "count = 0\n",
    "path = '/home/bok/Downloads/test_images'\n",
    "# ver3\n",
    "#URL = \"https://suite-endpoint-api-apne2.superb-ai.com/endpoints/294d7a63-a358-4829-aebe-9562120adb3c/inference\"\n",
    "# ver4\n",
    "URL = \"https://suite-endpoint-api-apne2.superb-ai.com/endpoints/793fa5e6-4e77-4e33-bed7-b92e64596ae8/inference\"\n",
    "# ver5\n",
    "#URL = \"https://suite-endpoint-api-apne2.superb-ai.com/endpoints/b99eb756-95d8-4bd5-b147-cfb45fb2d90b/inference\"\n",
    "ACCESS_KEY = \"87Ooe3vJlV859berMYnCja8GUJpepPue2SCPwzVl\"\n",
    "\n",
    "# 확장자가 .jpg인 파일들의 리스트를 생성\n",
    "jpg_files = [f for f in os.listdir(path) if f.endswith('.jpg')]\n",
    "correct = []\n",
    "abnormal = 0\n",
    "for images in jpg_files:\n",
    "    IMAGE_FILE_PATH = path + '/' + images\n",
    "    image = open(IMAGE_FILE_PATH, \"rb\").read()\n",
    "\n",
    "    response = requests.post(\n",
    "        url=URL,\n",
    "        auth=HTTPBasicAuth(\"kdt2024_1-17\", ACCESS_KEY),\n",
    "        headers={\"Content-Type\": \"image/jpeg\"},\n",
    "        data=image,\n",
    "    )\n",
    "\n",
    "    objects = response.json().get(\"objects\", [])\n",
    "\n",
    "    name_dict = {}\n",
    "\n",
    "    for obj_name in objects:\n",
    "        name = obj_name['class']\n",
    "        if name not in name_dict:\n",
    "            name_dict[name] = 1\n",
    "        else:\n",
    "            name_dict[name] += 1\n",
    "\n",
    "    usb_err_cnt = 0\n",
    "    boot_err_cnt = 0\n",
    "    osc_err_cnt = 0\n",
    "    pico_err_cnt = 0\n",
    "    hole_err_cnt = 0\n",
    "    chip_err_cnt = 0\n",
    "\n",
    "    '''# 모든 조건을 다 만족할 때만 correct 리스트에 추가\n",
    "    if ('BOOTSEL' in name_dict and name_dict['BOOTSEL'] == 1) and \\\n",
    "       ('USB' in name_dict and name_dict['USB'] == 1) and \\\n",
    "       ('CHIPSET' in name_dict and name_dict['CHIPSET'] == 1) and \\\n",
    "       ('OSCILLIATOR' in name_dict and name_dict['OSCILLIATOR'] == 1) and \\\n",
    "       ('RASPBERRY PICO' in name_dict and name_dict['RASPBERRY PICO'] == 1) and \\\n",
    "       ('HOLE' in name_dict and name_dict['HOLE'] == 4):\n",
    "        count += 1\n",
    "        correct.append(images)\n",
    "'''\n",
    "\n",
    "    if ('BOOTSEL' not in name_dict or name_dict['BOOTSEL'] != 1):\n",
    "        boot_err_cnt += 1\n",
    "    if ('USB' not in name_dict or name_dict['USB'] != 1):\n",
    "        usb_err_cnt += 1\n",
    "\n",
    "    if ('CHIPSET' not in name_dict or name_dict['CHIPSET'] != 1):\n",
    "        chip_err_cnt += 1\n",
    "\n",
    "    if ('OSCILLIATOR' not in name_dict or name_dict['OSCILLIATOR'] != 1):\n",
    "        osc_err_cnt += 1\n",
    "\n",
    "    if ('RASPBERRY PICO' not in name_dict or name_dict['RASPBERRY PICO'] != 1):\n",
    "        pico_err_cnt += 1\n",
    "\n",
    "    if ('HOLE' not in name_dict or name_dict['HOLE'] != 4):\n",
    "        hole_err_cnt += 1\n",
    "\n",
    "# 이제 correct 리스트에는 모든 조건을 만족하는 이미지 이름만 포함됩니다.\n",
    "print(correct)\n",
    "print(count)\n",
    "\n",
    "print(f'boot : {boot_err_cnt}\\nusb: {usb_err_cnt}\\nchip : {chip_err_cnt}\\nosc : {osc_err_cnt}\\npico : {pico_err_cnt}\\nhole : {hole_err_cnt}')\n"
   ]
  },
  {
   "cell_type": "code",
   "execution_count": 16,
   "metadata": {},
   "outputs": [
    {
     "name": "stdout",
     "output_type": "stream",
     "text": [
      "Image: output96.jpg\n",
      "Objects: {'RASPBERRY PICO': 1, 'CHIPSET': 1, 'BOOTSEL': 1, 'USB': 1, 'HOLE': 3, 'OSCILLIATOR': 1}\n",
      "--------------------------------------------------\n",
      "Image: output44.jpg\n",
      "Objects: {'RASPBERRY PICO': 1, 'BOOTSEL': 1, 'HOLE': 4, 'USB': 1, 'CHIPSET': 1}\n",
      "--------------------------------------------------\n",
      "Image: output55.jpg\n",
      "Objects: {'RASPBERRY PICO': 1, 'HOLE': 4, 'CHIPSET': 1, 'USB': 1, 'BOOTSEL': 1}\n",
      "--------------------------------------------------\n",
      "Image: output98.jpg\n",
      "Objects: {'RASPBERRY PICO': 1, 'HOLE': 4, 'USB': 1, 'OSCILLIATOR': 1, 'BOOTSEL': 1}\n",
      "--------------------------------------------------\n",
      "Image: output86.jpg\n",
      "Objects: {'RASPBERRY PICO': 1, 'BOOTSEL': 1, 'CHIPSET': 1, 'USB': 1, 'HOLE': 3, 'OSCILLIATOR': 1}\n",
      "--------------------------------------------------\n",
      "Image: output33.jpg\n",
      "Objects: {'USB': 1, 'RASPBERRY PICO': 1, 'CHIPSET': 1, 'HOLE': 4, 'BOOTSEL': 1}\n",
      "--------------------------------------------------\n",
      "Image: output50.jpg\n",
      "Objects: {'RASPBERRY PICO': 1, 'USB': 1, 'HOLE': 4, 'CHIPSET': 1, 'BOOTSEL': 1}\n",
      "--------------------------------------------------\n",
      "Image: output48.jpg\n",
      "Objects: {'USB': 1, 'RASPBERRY PICO': 1, 'CHIPSET': 1, 'HOLE': 4, 'BOOTSEL': 1}\n",
      "--------------------------------------------------\n",
      "Image: output25.jpg\n",
      "Objects: {'RASPBERRY PICO': 1, 'HOLE': 4, 'USB': 1, 'OSCILLIATOR': 1}\n",
      "--------------------------------------------------\n",
      "Image: output58.jpg\n",
      "Objects: {'RASPBERRY PICO': 1, 'USB': 1, 'HOLE': 4, 'BOOTSEL': 1}\n",
      "--------------------------------------------------\n",
      "Image: output47.jpg\n",
      "Objects: {'RASPBERRY PICO': 1, 'CHIPSET': 1, 'USB': 1, 'OSCILLIATOR': 1, 'HOLE': 4}\n",
      "--------------------------------------------------\n",
      "Image: output57.jpg\n",
      "Objects: {'RASPBERRY PICO': 1, 'USB': 1, 'CHIPSET': 1, 'BOOTSEL': 1, 'HOLE': 4}\n",
      "--------------------------------------------------\n",
      "Image: output23.jpg\n",
      "Objects: {'RASPBERRY PICO': 1, 'HOLE': 4, 'BOOTSEL': 1, 'USB': 1, 'OSCILLIATOR': 1}\n",
      "--------------------------------------------------\n",
      "Image: output22.jpg\n",
      "Objects: {'USB': 1, 'RASPBERRY PICO': 1, 'CHIPSET': 1, 'HOLE': 4, 'BOOTSEL': 1}\n",
      "--------------------------------------------------\n",
      "Image: output45.jpg\n",
      "Objects: {'RASPBERRY PICO': 1, 'CHIPSET': 1, 'USB': 1, 'HOLE': 4, 'BOOTSEL': 1}\n",
      "--------------------------------------------------\n",
      "Image: output35.jpg\n",
      "Objects: {'RASPBERRY PICO': 1, 'HOLE': 4, 'USB': 1, 'CHIPSET': 1, 'OSCILLIATOR': 1}\n",
      "--------------------------------------------------\n",
      "Image: output65.jpg\n",
      "Objects: {'RASPBERRY PICO': 1, 'OSCILLIATOR': 1, 'HOLE': 4, 'USB': 1, 'BOOTSEL': 1}\n",
      "--------------------------------------------------\n",
      "Image: output36.jpg\n",
      "Objects: {'RASPBERRY PICO': 1, 'HOLE': 4, 'USB': 1, 'OSCILLIATOR': 1, 'CHIPSET': 1}\n",
      "--------------------------------------------------\n",
      "Image: output24.jpg\n",
      "Objects: {'RASPBERRY PICO': 1, 'CHIPSET': 1, 'USB': 1, 'BOOTSEL': 1, 'HOLE': 4}\n",
      "--------------------------------------------------\n",
      "Image: output30.jpg\n",
      "Objects: {'RASPBERRY PICO': 1, 'USB': 1, 'HOLE': 4, 'BOOTSEL': 1, 'CHIPSET': 1}\n",
      "--------------------------------------------------\n",
      "Image: output52.jpg\n",
      "Objects: {'RASPBERRY PICO': 1, 'HOLE': 4, 'BOOTSEL': 1}\n",
      "--------------------------------------------------\n",
      "Image: output34.jpg\n",
      "Objects: {'RASPBERRY PICO': 1, 'USB': 1, 'CHIPSET': 1, 'HOLE': 4, 'OSCILLIATOR': 1}\n",
      "--------------------------------------------------\n",
      "Image: output21.jpg\n",
      "Objects: {'RASPBERRY PICO': 1, 'CHIPSET': 1, 'USB': 1, 'BOOTSEL': 1, 'HOLE': 4}\n",
      "--------------------------------------------------\n",
      "Image: output53.jpg\n",
      "Objects: {'RASPBERRY PICO': 1, 'USB': 1, 'HOLE': 4, 'CHIPSET': 1, 'OSCILLIATOR': 1}\n",
      "--------------------------------------------------\n",
      "Image: output31.jpg\n",
      "Objects: {'RASPBERRY PICO': 1, 'USB': 1, 'CHIPSET': 1, 'HOLE': 4, 'OSCILLIATOR': 1}\n",
      "--------------------------------------------------\n",
      "Image: output49.jpg\n",
      "Objects: {'RASPBERRY PICO': 1, 'USB': 1, 'CHIPSET': 1, 'HOLE': 4, 'OSCILLIATOR': 1}\n",
      "--------------------------------------------------\n",
      "Image: output59.jpg\n",
      "Objects: {'RASPBERRY PICO': 1, 'HOLE': 4, 'USB': 1, 'OSCILLIATOR': 1, 'CHIPSET': 1}\n",
      "--------------------------------------------------\n",
      "Image: output41.jpg\n",
      "Objects: {'USB': 1, 'CHIPSET': 1, 'HOLE': 4, 'OSCILLIATOR': 1}\n",
      "--------------------------------------------------\n",
      "Image: output29.jpg\n",
      "Objects: {'CHIPSET': 1, 'USB': 1, 'BOOTSEL': 1, 'HOLE': 4}\n",
      "--------------------------------------------------\n",
      "Image: output27.jpg\n",
      "Objects: {'HOLE': 4, 'USB': 1, 'CHIPSET': 1, 'BOOTSEL': 1}\n",
      "--------------------------------------------------\n",
      "Image: output51.jpg\n",
      "Objects: {'RASPBERRY PICO': 1, 'CHIPSET': 1, 'BOOTSEL': 1, 'USB': 1, 'HOLE': 4}\n",
      "--------------------------------------------------\n",
      "Image: output28.jpg\n",
      "Objects: {'RASPBERRY PICO': 1, 'OSCILLIATOR': 1, 'CHIPSET': 1, 'HOLE': 4, 'USB': 1}\n",
      "--------------------------------------------------\n",
      "Image: output37.jpg\n",
      "Objects: {'RASPBERRY PICO': 1, 'HOLE': 4, 'USB': 1, 'BOOTSEL': 1}\n",
      "--------------------------------------------------\n",
      "Image: output32.jpg\n",
      "Objects: {'RASPBERRY PICO': 1, 'HOLE': 4, 'BOOTSEL': 1}\n",
      "--------------------------------------------------\n",
      "Image: output82.jpg\n",
      "Objects: {'RASPBERRY PICO': 1, 'HOLE': 4, 'BOOTSEL': 1, 'OSCILLIATOR': 1, 'USB': 1}\n",
      "--------------------------------------------------\n",
      "Image: output38.jpg\n",
      "Objects: {'RASPBERRY PICO': 1, 'BOOTSEL': 1, 'USB': 1, 'HOLE': 4, 'CHIPSET': 1}\n",
      "--------------------------------------------------\n",
      "Image: output20.jpg\n",
      "Objects: {'RASPBERRY PICO': 1, 'HOLE': 4, 'USB': 1, 'CHIPSET': 1, 'OSCILLIATOR': 1}\n",
      "--------------------------------------------------\n",
      "Missing key counts:\n",
      "RASPBERRY PICO: 3\n",
      "CHIPSET: 9\n",
      "BOOTSEL: 12\n",
      "USB: 2\n",
      "HOLE: 0\n",
      "OSCILLIATOR: 19\n"
     ]
    }
   ],
   "source": [
    "import os\n",
    "import requests\n",
    "from requests.auth import HTTPBasicAuth\n",
    "\n",
    "path = '/home/bok/Downloads/test_images'\n",
    "# ver5\n",
    "URL = \"https://suite-endpoint-api-apne2.superb-ai.com/endpoints/b99eb756-95d8-4bd5-b147-cfb45fb2d90b/inference\"\n",
    "ACCESS_KEY = \"87Ooe3vJlV859berMYnCja8GUJpepPue2SCPwzVl\"\n",
    "\n",
    "# 확장자가 .jpg인 파일들의 리스트 생성\n",
    "jpg_files = [f for f in os.listdir(path) if f.endswith('.jpg')]\n",
    "\n",
    "missing_counts = {key: 0 for key in ['RASPBERRY PICO', 'CHIPSET', 'BOOTSEL', 'USB', 'HOLE', 'OSCILLIATOR']}\n",
    "\n",
    "for images in jpg_files:\n",
    "    # 이미지 이름에서 숫자 추출\n",
    "    image_number = int(''.join(filter(str.isdigit, images)))\n",
    "\n",
    "    # 이미지 번호가 20에서 99 사이가 아니면 건너뜀\n",
    "    if not (20 <= image_number <= 99):\n",
    "        continue\n",
    "\n",
    "    IMAGE_FILE_PATH = os.path.join(path, images)\n",
    "    with open(IMAGE_FILE_PATH, \"rb\") as img_file:\n",
    "        image = img_file.read()\n",
    "\n",
    "    response = requests.post(\n",
    "        url=URL,\n",
    "        auth=HTTPBasicAuth(\"kdt2024_1-17\", ACCESS_KEY),\n",
    "        headers={\"Content-Type\": \"image/jpeg\"},\n",
    "        data=image,\n",
    "    )\n",
    "\n",
    "    objects = response.json().get(\"objects\", [])\n",
    "\n",
    "    name_dict = {}\n",
    "    for obj_name in objects:\n",
    "        name = obj_name['class']\n",
    "        name_dict[name] = name_dict.get(name, 0) + 1\n",
    "\n",
    "    required_keys = ['RASPBERRY PICO', 'CHIPSET', 'BOOTSEL', 'USB', 'HOLE', 'OSCILLIATOR']\n",
    "\n",
    "    # 누락된 키 확인 및 카운트 증가\n",
    "    for key in required_keys:\n",
    "        if key not in name_dict:\n",
    "            missing_counts[key] += 1\n",
    "\n",
    "    # 조건 확인: HOLE이 4가 아니거나 다른 객체가 1이 아닌 경우 또는 키가 누락된 경우\n",
    "    if ('HOLE' not in name_dict or name_dict['HOLE'] != 4) or \\\n",
    "       any(name_dict.get(key, 0) != 1 for key in required_keys if key != 'HOLE'):\n",
    "        print(f\"Image: {images}\")\n",
    "        print(f\"Objects: {name_dict}\")\n",
    "        print(\"-\" * 50)\n",
    "\n",
    "# 누락된 키에 대한 총 카운트 출력\n",
    "print(\"Missing key counts:\")\n",
    "for key, count in missing_counts.items():\n",
    "    print(f\"{key}: {count}\")\n"
   ]
  }
 ],
 "metadata": {
  "kernelspec": {
   "display_name": "Python 3",
   "language": "python",
   "name": "python3"
  },
  "language_info": {
   "codemirror_mode": {
    "name": "ipython",
    "version": 3
   },
   "file_extension": ".py",
   "mimetype": "text/x-python",
   "name": "python",
   "nbconvert_exporter": "python",
   "pygments_lexer": "ipython3",
   "version": "3.10.12"
  }
 },
 "nbformat": 4,
 "nbformat_minor": 2
}
